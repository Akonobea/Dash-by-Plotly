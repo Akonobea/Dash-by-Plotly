{
 "cells": [
  {
   "cell_type": "code",
   "execution_count": 1,
   "id": "6501db3f-2063-4fcf-9ca6-455b197f96b4",
   "metadata": {},
   "outputs": [],
   "source": [
    "from dash import Dash, Input, Output, State, html, dcc, callback\n",
    "import plotly.express as px\n",
    "import pandas as pd\n",
    "import dash_bootstrap_components as dbc"
   ]
  },
  {
   "cell_type": "code",
   "execution_count": 55,
   "id": "8adacf98-5fd7-4548-a19c-00d62527be6a",
   "metadata": {},
   "outputs": [],
   "source": [
    "app = Dash(__name__, external_stylesheets=[dbc.themes.SOLAR])\n",
    "\n",
    "app.layout = dbc.Container([\n",
    "    dbc.Row([\n",
    "        dbc.Col([\n",
    "            html.H1(\"Our Cool Analytics Dashboard\", style={\"textAlign\":\"center\"})\n",
    "        ],width=12)\n",
    "    ]),\n",
    "    dbc.Row([\n",
    "        dbc.Col([\n",
    "            dbc.Carousel(\n",
    "                items=[\n",
    "                    {\"key\": \"1\", \"src\": \"/assets/Chapulin1.jpg\", \"caption\":\"My cat captions\", \"img_style\":{\"max-height\":\"500px\"}},\n",
    "                    {\"key\": \"2\", \"src\": \"/assets/Chapulin2.jpg\", \"header\":\"My cat header\", \"img_style\":{\"max-height\":\"500px\"}},\n",
    "                    {\"key\": \"3\", \"src\": \"/assets/Chapulin3.jpg\", \"img_style\":{\"max-height\":\"500px\"}},\n",
    "                ],\n",
    "                controls=True,\n",
    "                indicators=True,\n",
    "                interval=2000,\n",
    "                ride=\"carousel\",\n",
    "#                 className=\"carousel-fade\"\n",
    "            )\n",
    "        ], width=8)\n",
    "    ], justify=\"center\"),\n",
    "    html.Br(),\n",
    "    dbc.Row([\n",
    "        dbc.Col([\n",
    "            html.H2(\"All my graphs and charts below\", style={\"textAlign\":\"center\"}),\n",
    "            dcc.Graph(figure={})\n",
    "        ],width=12)    \n",
    "    ])\n",
    "\n",
    "])"
   ]
  },
  {
   "cell_type": "code",
   "execution_count": null,
   "id": "3a716605-4ace-493a-bc75-734adb8a9764",
   "metadata": {},
   "outputs": [],
   "source": [
    "if __name__ == '__main__':\n",
    "    app.run_server(debug=False, port=8000)\n"
   ]
  }
 ],
 "metadata": {
  "kernelspec": {
   "display_name": "Python 3 (ipykernel)",
   "language": "python",
   "name": "python3"
  },
  "language_info": {
   "codemirror_mode": {
    "name": "ipython",
    "version": 3
   },
   "file_extension": ".py",
   "mimetype": "text/x-python",
   "name": "python",
   "nbconvert_exporter": "python",
   "pygments_lexer": "ipython3",
   "version": "3.9.6"
  }
 },
 "nbformat": 4,
 "nbformat_minor": 5
}
