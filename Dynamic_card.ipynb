{
 "cells": [
  {
   "cell_type": "code",
   "execution_count": 1,
   "id": "293f3ee0-a507-4769-8daf-cd1cd2e6c7f8",
   "metadata": {},
   "outputs": [],
   "source": [
    "pip install jupyter-dash -q"
   ]
  },
  {
   "cell_type": "code",
   "execution_count": null,
   "id": "f333a208-21fe-4a57-9587-7ad6f775eec5",
   "metadata": {},
   "outputs": [],
   "source": [
    "pip install dash-bootstrap-components"
   ]
  },
  {
   "cell_type": "code",
   "execution_count": 1,
   "id": "a31abc0a-dc02-4753-a7a1-cf8d0a72e182",
   "metadata": {},
   "outputs": [
    {
     "data": {
      "text/html": [
       "\n",
       "        <iframe\n",
       "            width=\"100%\"\n",
       "            height=\"650\"\n",
       "            src=\"http://127.0.0.1:8050/\"\n",
       "            frameborder=\"0\"\n",
       "            allowfullscreen\n",
       "        ></iframe>\n",
       "        "
      ],
      "text/plain": [
       "<IPython.lib.display.IFrame at 0x284ff491e50>"
      ]
     },
     "metadata": {},
     "output_type": "display_data"
    },
    {
     "name": "stdout",
     "output_type": "stream",
     "text": [
      "0\n",
      "0\n",
      "0\n",
      "1\n"
     ]
    }
   ],
   "source": [
    "from jupyter_dash import JupyterDash  # pip install dash\n",
    "from dash import dcc, html, Input, Output, ALL, State, MATCH, ALLSMALLER\n",
    "import plotly.express as px\n",
    "import pandas as pd\n",
    "import numpy as np\n",
    "import dash_bootstrap_components as dbc\n",
    "\n",
    "df = pd.read_csv(\"https://raw.githubusercontent.com/Coding-with-Adam/Dash-by-Plotly/master/Callbacks/Pattern%20Matching%20Callbacks/Caste.csv\")\n",
    "df.rename(columns={'under_trial': 'under trial', 'state_name': 'state'}, inplace=True)\n",
    "\n",
    "app = JupyterDash(__name__, external_stylesheets=[dbc.themes.CYBORG])\n",
    "\n",
    "app.layout = html.Div([\n",
    "    html.Div(children=[\n",
    "        html.Button('Add Chart', id='add-chart', n_clicks=0),\n",
    "    ]),\n",
    "    html.Div(id='container', children=[])\n",
    "])\n",
    "\n",
    "\n",
    "@app.callback(\n",
    "    Output('container', 'children'),\n",
    "    [Input('add-chart', 'n_clicks')],\n",
    "    [State('container', 'children')]\n",
    ")\n",
    "def display_graphs(n, div_children):\n",
    "    new_card = html.Div(\n",
    "        style={'width': '45%', 'display': 'inline-block',\n",
    "               'outline': 'thin lightgrey solid', 'padding': 10},\n",
    "        children=[\n",
    "            dbc.Card(\n",
    "                dbc.CardBody(\n",
    "                    [\n",
    "                        html.H5(\n",
    "                            id={\n",
    "                        'type': 'dynamic-title',\n",
    "                        'index': n\n",
    "                        },\n",
    "                            children=\"\", className=\"card-title\"\n",
    "                        ),\n",
    "                        html.P(\n",
    "                            \"This card has some text content, but not much else\"),\n",
    "                        dbc.Button(\"Go somewhere\", color=\"primary\", n_clicks=0,\n",
    "                                   id={\n",
    "                                       'type': 'dynamic-button',\n",
    "                                       'index': n\n",
    "                                   }\n",
    "                                   ),\n",
    "                    ],\n",
    "                    id={\n",
    "                        'type': 'dynamic-card',\n",
    "                        'index': n\n",
    "                    }\n",
    "                )\n",
    "            )\n",
    "        ]\n",
    "    )\n",
    "\n",
    "    div_children.append(new_card)\n",
    "    return div_children\n",
    "\n",
    "@app.callback(\n",
    "    Output({'type': 'dynamic-title', 'index': MATCH}, 'children'),\n",
    "    Input({'type': 'dynamic-button', 'index': MATCH}, 'n_clicks')\n",
    ")\n",
    "def update_card(n_clicks):\n",
    "    print(n_clicks)\n",
    "    return str(n_clicks)\n",
    "\n",
    "app.run_server(mode=\"inline\")\n"
   ]
  },
  {
   "cell_type": "code",
   "execution_count": null,
   "id": "9ce7e879-9fdb-439d-8066-351708029614",
   "metadata": {},
   "outputs": [],
   "source": []
  }
 ],
 "metadata": {
  "kernelspec": {
   "display_name": "Python 3 (ipykernel)",
   "language": "python",
   "name": "python3"
  },
  "language_info": {
   "codemirror_mode": {
    "name": "ipython",
    "version": 3
   },
   "file_extension": ".py",
   "mimetype": "text/x-python",
   "name": "python",
   "nbconvert_exporter": "python",
   "pygments_lexer": "ipython3",
   "version": "3.9.6"
  }
 },
 "nbformat": 4,
 "nbformat_minor": 5
}
