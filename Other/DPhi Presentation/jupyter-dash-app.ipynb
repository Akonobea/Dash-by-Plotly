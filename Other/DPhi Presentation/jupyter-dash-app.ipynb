{
 "cells": [
  {
   "cell_type": "code",
   "execution_count": null,
   "id": "adjusted-ticket",
   "metadata": {},
   "outputs": [
    {
     "name": "stdout",
     "output_type": "stream",
     "text": [
      "Dash is running on http://127.0.0.1:8001/\n",
      "\n",
      " * Serving Flask app \"__main__\" (lazy loading)\n",
      " * Environment: production\n",
      "   WARNING: This is a development server. Do not use it in a production deployment.\n",
      "   Use a production WSGI server instead.\n",
      " * Debug mode: off\n"
     ]
    },
    {
     "name": "stderr",
     "output_type": "stream",
     "text": [
      " * Running on http://127.0.0.1:8001/ (Press CTRL+C to quit)\n",
      "127.0.0.1 - - [09/Mar/2021 00:03:13] \"\u001b[37mGET / HTTP/1.1\u001b[0m\" 200 -\n",
      "127.0.0.1 - - [09/Mar/2021 00:03:14] \"\u001b[37mGET /_dash-layout HTTP/1.1\u001b[0m\" 200 -\n",
      "127.0.0.1 - - [09/Mar/2021 00:03:14] \"\u001b[37mGET /_dash-dependencies HTTP/1.1\u001b[0m\" 200 -\n",
      "127.0.0.1 - - [09/Mar/2021 00:03:14] \"\u001b[37mGET /_favicon.ico?v=1.18.1 HTTP/1.1\u001b[0m\" 200 -\n",
      "127.0.0.1 - - [09/Mar/2021 00:03:14] \"\u001b[37mPOST /_dash-update-component HTTP/1.1\u001b[0m\" 200 -\n"
     ]
    }
   ],
   "source": [
    "# import the libraries----------------------------------------------------\n",
    "import plotly.express as px\n",
    "import pandas as pd\n",
    "\n",
    "import dash\n",
    "import dash_core_components as dcc\n",
    "import dash_html_components as html\n",
    "from dash.dependencies import Output, Input\n",
    "\n",
    "# read, clean, and filter the data----------------------------------------\n",
    "df = pd.read_csv(\"https://raw.githubusercontent.com/Coding-with-Adam/Dash-by-Plotly/master/Other/DPhi%20Presentation/MPVDataset.csv\")\n",
    "\n",
    "df = df[df[\"Victim's race\"].isin([\"White\", \"Black\", \"Hispanic\", \"Asian\"])]\n",
    "df[\"Victim's age\"] = pd.to_numeric(df[\"Victim's age\"], errors='coerce')\n",
    "\n",
    "# app layout--------------------------------------------------------------\n",
    "app = dash.Dash(__name__)\n",
    "app.layout = html.Div([\n",
    "    html.Div([\n",
    "        dcc.Dropdown(id='my-states', multi=True, clearable=False,\n",
    "                     options=[{'label':x, 'value':x} for x in sorted(df.State.unique())],\n",
    "                     value=['NY', 'CA'])\n",
    "    ],style={'width':'50%'}),\n",
    "    html.Div([\n",
    "        dcc.Graph(id='my-barplot', figure={})\n",
    "    ])\n",
    "])\n",
    "\n",
    "\n",
    "# Callback - app interactivity section------------------------------------\n",
    "@app.callback(\n",
    "    Output(component_id='my-barplot', component_property='figure'),\n",
    "    Input(component_id='my-states', component_property='value')\n",
    ")\n",
    "def update_graph(states_chosen):\n",
    "    # build the graph\n",
    "    dff = df[df[\"State\"].isin(states_chosen)]\n",
    "    dff = dff.groupby([\"Victim's race\",\"State\"])[[\"Victim's age\"]].mean()\n",
    "    dff = dff.reset_index()\n",
    "    fig = px.bar(\n",
    "        data_frame=dff,\n",
    "        x=\"Victim's race\",\n",
    "        y=\"Victim's age\",\n",
    "        color=\"State\",\n",
    "        barmode=\"group\"\n",
    "    )\n",
    "    return fig\n",
    "\n",
    "\n",
    "\n",
    "if __name__=='__main__':\n",
    "    app.run_server(debug=False, port=8001)\n"
   ]
  },
  {
   "cell_type": "code",
   "execution_count": null,
   "id": "broken-accommodation",
   "metadata": {},
   "outputs": [],
   "source": []
  }
 ],
 "metadata": {
  "kernelspec": {
   "display_name": "Python 3",
   "language": "python",
   "name": "python3"
  },
  "language_info": {
   "codemirror_mode": {
    "name": "ipython",
    "version": 3
   },
   "file_extension": ".py",
   "mimetype": "text/x-python",
   "name": "python",
   "nbconvert_exporter": "python",
   "pygments_lexer": "ipython3",
   "version": "3.8.3"
  }
 },
 "nbformat": 4,
 "nbformat_minor": 5
}
